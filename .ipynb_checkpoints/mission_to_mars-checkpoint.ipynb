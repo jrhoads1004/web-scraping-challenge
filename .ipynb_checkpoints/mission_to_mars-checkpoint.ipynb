{
 "cells": [
  {
   "cell_type": "code",
   "execution_count": 119,
   "metadata": {},
   "outputs": [],
   "source": [
    "import os\n",
    "import requests as req\n",
    "from bs4 import BeautifulSoup\n",
    "from splinter import Browser\n",
    "import pandas as pd\n",
    "import time\n",
    "import pprint\n",
    "import requests\n",
    "import pymongo"
   ]
  },
  {
   "cell_type": "code",
   "execution_count": 120,
   "metadata": {},
   "outputs": [
    {
     "name": "stdout",
     "output_type": "stream",
     "text": [
      "/usr/local/bin/chromedriver\n"
     ]
    }
   ],
   "source": [
    "!which chromedriver"
   ]
  },
  {
   "cell_type": "code",
   "execution_count": 127,
   "metadata": {},
   "outputs": [],
   "source": [
    "\n",
    "executable_path = {'executable_path': '/usr/local/bin/chromedriver'}\n",
    "browser = Browser('chrome', **executable_path, headless=False)\n",
    "url = 'https://mars.nasa.gov/news/'\n",
    "browser.visit(url)"
   ]
  },
  {
   "cell_type": "code",
   "execution_count": 128,
   "metadata": {},
   "outputs": [
    {
     "name": "stdout",
     "output_type": "stream",
     "text": [
      "\n",
      "--Title-- \n",
      "NASA Wins 4 Webbys, 4 People's Voice Awards\n",
      "--Para-- \n",
      "Winners include the JPL-managed \"Send Your Name to Mars\" campaign, NASA's Global Climate Change website and Solar System Interactive.\n",
      "\n"
     ]
    }
   ],
   "source": [
    "\n",
    "time.sleep(5)\n",
    "\n",
    "# HTML object\n",
    "html = browser.html\n",
    "# Parse HTML with Beautiful Soup\n",
    "soup = BeautifulSoup(html, 'html.parser')\n",
    "# Retrieve all elements that contain book information\n",
    "articles = soup.find_all('li', class_='slide')\n",
    "\n",
    "for article in articles:\n",
    "    # Retrieve specific div with class\n",
    "    div = article.find('div', class_='content_title')\n",
    "    # Funnel to 'a'\n",
    "    title = div.find('a')\n",
    "    # Only grab text\n",
    "    news_title = title.text\n",
    "    # Retrieve specific div with class\n",
    "    div = article.find('div', class_='article_teaser_body')\n",
    "    # Only grab text\n",
    "    news_p = div.text\n",
    "    \n",
    "# Print results\n",
    "print(f\"\"\"\n",
    "--Title-- \n",
    "{news_title}\n",
    "--Para-- \n",
    "{news_p}\n",
    "\"\"\")\n",
    "\n",
    "# Scrape NASA Mars News\n",
    "#url_nasa = \"https://mars.nasa.gov/news/?page=0&per_page=40&order=publish_date+desc%2Ccreated_at+desc&search=&category=19%2C165%2C184%2C204&blank_scope=Latest\"\n",
    "# url = 'https://mars.nasa.gov/news/'\n",
    "# browser.visit(url)\n",
    "\n",
    "# Get data from news site\n",
    "\n",
    "# url_news = 'https://mars.nasa.gov/news/'\n",
    "# browser.visit(url_news)\n",
    "\n",
    "# html = browser.html\n",
    "# soup = BeautifulSoup(html, 'html.parser')\n",
    "\n",
    "# # Find the first article\n",
    "# news = soup.find('div', class_='list_text')\n",
    "\n",
    "\n",
    "# # Find the title and the parragraph\n",
    "# title_news = news.a.text\n",
    "# p_news = news.find('div', class_='article_teaser_body').text\n",
    "\n",
    "# print(title_news)\n",
    "# print(p_news)\n",
    "# # URL of page to be scraped\n",
    "# url = 'https://mars.nasa.gov/news/?page=0&per_page=40&order=publish_date+desc%2Ccreated_at+desc&search=&category=19%2C165%2C184%2C204&blank_scope=Latest'\n",
    "\n",
    "# # Retrieve page with the requests module\n",
    "# response = requests.get(url)\n",
    "# # Create BeautifulSoup object; parse with 'lxml'\n",
    "# soup = BeautifulSoup(response.text, 'lxml')\n"
   ]
  },
  {
   "cell_type": "code",
   "execution_count": 129,
   "metadata": {},
   "outputs": [],
   "source": [
    "# Put results in dict\n",
    "NASA_NEWS = [{\n",
    "    \"news_title\":news_title,\n",
    "    \"news_p\":news_p\n",
    "}]\n",
    "\n",
    "# Examine the results, then determine element that contains sought info\n",
    "#print(soup.prettify())"
   ]
  },
  {
   "cell_type": "code",
   "execution_count": 130,
   "metadata": {},
   "outputs": [],
   "source": [
    "#Get image URL\n",
    "\n",
    "url = 'https://www.jpl.nasa.gov/spaceimages/?search=&category=Mars'\n",
    "browser.visit(url)\n",
    "\n",
    "# url_image = 'https://www.jpl.nasa.gov/spaceimages/?search=&category=Mars'\n",
    "# browser.visit(url_image)\n",
    "\n",
    "# html = browser.html\n",
    "# soup = BeautifulSoup(html, 'html.parser')\n",
    "\n",
    "# # Find the button that leads to the full image\n",
    "# news = soup.find('a', class_='button fancybox')\n",
    "\n",
    "\n",
    "# # Go to article with full image\n",
    "# browser.visit(f\"https://www.jpl.nasa.gov/{news['data-link']}\")\n",
    "\n",
    "# html = browser.html\n",
    "# soup = BeautifulSoup(html, 'html.parser')\n",
    "\n",
    "# # Find list of download links\n",
    "# images = soup.find_all('div', class_='download_tiff')\n",
    "\n",
    "# # Find jpg format link\n",
    "# for image in images:\n",
    "#     if \"jpg\" in image.a['href']:\n",
    "#         image_url = \"http:\" + image.a['href']\n",
    "\n",
    "# print(image_url)\n"
   ]
  },
  {
   "cell_type": "code",
   "execution_count": 131,
   "metadata": {},
   "outputs": [
    {
     "name": "stdout",
     "output_type": "stream",
     "text": [
      "https://www.jpl.nasa.gov//spaceimages/images/mediumsize/PIA11777_ip.jpg\n"
     ]
    }
   ],
   "source": [
    "\n",
    "# HTML object\n",
    "html = browser.html\n",
    "# Parse HTML with Beautiful Soup\n",
    "soup = BeautifulSoup(html, 'html.parser')\n",
    "# Retrieve all elements that contain book information\n",
    "articles = soup.find_all('article', class_='carousel_item')\n",
    "\n",
    "for article in articles:\n",
    "    # Retrieve a to find href\n",
    "    a = article.find('a')\n",
    "    # Concatenate with base url\n",
    "    featured_image_url = 'https://www.jpl.nasa.gov/' + a['data-fancybox-href']\n",
    "    print(featured_image_url)\n",
    "\n",
    "# Open browser\n",
    "# executable_path = {'executable_path': '/usr/local/bin/chromedriver'}\n",
    "# browser = Browser('chrome', **executable_path, headless=False)\n",
    "\n",
    "# url_weather = 'https://twitter.com/marswxreport?lang=en'\n",
    "\n",
    "# browser.visit(url_weather)\n",
    "\n",
    "# html = browser.html\n",
    "# soup = BeautifulSoup(html, 'html.parser')\n",
    "\n",
    "# # Find the first tweet in the timeline\n",
    "# tweet = soup.find('div', class_=\"js-tweet-text-container\")\n",
    "\n",
    "# # Get only the thext of the tweet, substracting the url of the image that came with the tweet\n",
    "# #weather_text = tweet.replace(tweet.p.a.text,\"\")\n",
    "# #print(soup.prettify())\n",
    "# print(soup)\n"
   ]
  },
  {
   "cell_type": "code",
   "execution_count": 132,
   "metadata": {},
   "outputs": [],
   "source": [
    "FEAT_IMG = [{\n",
    "\"FEAT_IMG\":featured_image_url\n",
    "}]\n",
    "\n",
    "# url_facts = 'https://space-facts.com/mars/'\n",
    "\n",
    "# browser.visit(url_facts)\n",
    "\n",
    "# html = browser.html\n",
    "# soup = BeautifulSoup(html, 'html.parser')\n",
    "\n",
    "# #print(soup.prettify())\n",
    "\n",
    "# # Find the table\n",
    "# table = soup.find('table', class_=\"tablepress tablepress-id-p-mars\")\n",
    "\n",
    "# # Pass it to pandas\n",
    "# pd_table = pd.read_html(str(table))[0]\n",
    "\n",
    "# print(pd_table)\n",
    "\n",
    "# table_html = pd_table.to_html(header=False, index=False)"
   ]
  },
  {
   "cell_type": "code",
   "execution_count": 133,
   "metadata": {},
   "outputs": [],
   "source": [
    "url = 'https://twitter.com/marswxreport?lang=en'\n",
    "browser.visit(url)\n",
    "# url_hemispheres = 'https://astrogeology.usgs.gov/search/results?q=hemisphere+enhanced&k1=target&v1=Mars'\n",
    "\n",
    "# browser.visit(url_hemispheres)\n",
    "\n",
    "# html = browser.html\n",
    "# soup = BeautifulSoup(html, 'html.parser')\n",
    "\n",
    "# # Find all hemispheres\n",
    "# results = soup.find_all('div', class_=\"description\")\n",
    "\n",
    "# hemisphere_image_urls = []\n",
    "\n",
    "# for result in results:\n",
    "#     browser.visit('https://astrogeology.usgs.gov' + result.a['href'])\n",
    "#     html = browser.html\n",
    "#     soup = BeautifulSoup(html, 'html.parser')\n",
    "#     links = soup.find('div', class_=\"downloads\").find('a')\n",
    "    \n",
    "#     image_dict = {\n",
    "#         \"title\" : result.a.text,\n",
    "#         \"link\" : links['href']\n",
    "#     }\n",
    "    \n",
    "#     hemisphere_image_urls.append(image_dict)\n",
    "# print(image_dict)"
   ]
  },
  {
   "cell_type": "code",
   "execution_count": 134,
   "metadata": {},
   "outputs": [],
   "source": [
    "time.sleep(3)\n",
    "\n",
    "# HTML object\n",
    "html = browser.html\n",
    "# Parse HTML with Beautiful Soup\n",
    "soup = BeautifulSoup(html, 'html.parser')\n",
    "# Retrieve all elements that contain book information\n",
    "tweets = soup.find_all(attrs={\"data-testid\": \"tweet\"})\n",
    "spans = soup.find_all('span', class_='css-901oao css-16my406 r-1qd0xha r-ad9z0x r-bcqeeo r-qvutc0')\n",
    "\n",
    "for span in spans:\n",
    "    if \"InSight\" in span.text:\n",
    "        result = span.text\n",
    "        break\n",
    "        \n",
    "mars_weather = result\n"
   ]
  },
  {
   "cell_type": "code",
   "execution_count": 135,
   "metadata": {},
   "outputs": [],
   "source": [
    "MARS_WEATHER = [{\n",
    "\"MARS_WEATHER\":mars_weather\n",
    "}]"
   ]
  },
  {
   "cell_type": "code",
   "execution_count": 136,
   "metadata": {},
   "outputs": [],
   "source": [
    "url = 'https://space-facts.com/mars/'\n",
    "browser.visit(url)\n"
   ]
  },
  {
   "cell_type": "code",
   "execution_count": 137,
   "metadata": {},
   "outputs": [
    {
     "data": {
      "text/plain": [
       "[                      0                              1\n",
       " 0  Equatorial Diameter:                       6,792 km\n",
       " 1       Polar Diameter:                       6,752 km\n",
       " 2                 Mass:  6.39 × 10^23 kg (0.11 Earths)\n",
       " 3                Moons:            2 (Phobos & Deimos)\n",
       " 4       Orbit Distance:       227,943,824 km (1.38 AU)\n",
       " 5         Orbit Period:           687 days (1.9 years)\n",
       " 6  Surface Temperature:                   -87 to -5 °C\n",
       " 7         First Record:              2nd millennium BC\n",
       " 8          Recorded By:           Egyptian astronomers,\n",
       "   Mars - Earth Comparison             Mars            Earth\n",
       " 0               Diameter:         6,779 km        12,742 km\n",
       " 1                   Mass:  6.39 × 10^23 kg  5.97 × 10^24 kg\n",
       " 2                  Moons:                2                1\n",
       " 3      Distance from Sun:   227,943,824 km   149,598,262 km\n",
       " 4         Length of Year:   687 Earth days      365.24 days\n",
       " 5            Temperature:     -87 to -5 °C      -88 to 58°C,\n",
       "                       0                              1\n",
       " 0  Equatorial Diameter:                       6,792 km\n",
       " 1       Polar Diameter:                       6,752 km\n",
       " 2                 Mass:  6.39 × 10^23 kg (0.11 Earths)\n",
       " 3                Moons:            2 (Phobos & Deimos)\n",
       " 4       Orbit Distance:       227,943,824 km (1.38 AU)\n",
       " 5         Orbit Period:           687 days (1.9 years)\n",
       " 6  Surface Temperature:                   -87 to -5 °C\n",
       " 7         First Record:              2nd millennium BC\n",
       " 8          Recorded By:           Egyptian astronomers]"
      ]
     },
     "execution_count": 137,
     "metadata": {},
     "output_type": "execute_result"
    }
   ],
   "source": [
    "\n",
    "time.sleep(5)\n",
    "\n",
    "# Read url into html tables and view\n",
    "tables = pd.read_html(url)\n",
    "tables"
   ]
  },
  {
   "cell_type": "code",
   "execution_count": 138,
   "metadata": {},
   "outputs": [],
   "source": [
    "# Slice out the table of choice\n",
    "df = tables[0]\n",
    "# Name columns\n",
    "df.columns = [\n",
    "    'Data_Type',\n",
    "    'Data_Value'\n",
    "]\n",
    "# Preview\n",
    "df.head()\n",
    "# Replace colons\n",
    "df['Data_Type'] = df.Data_Type.str.replace(':',\"\")"
   ]
  },
  {
   "cell_type": "code",
   "execution_count": 139,
   "metadata": {},
   "outputs": [
    {
     "data": {
      "text/html": [
       "<div>\n",
       "<style scoped>\n",
       "    .dataframe tbody tr th:only-of-type {\n",
       "        vertical-align: middle;\n",
       "    }\n",
       "\n",
       "    .dataframe tbody tr th {\n",
       "        vertical-align: top;\n",
       "    }\n",
       "\n",
       "    .dataframe thead th {\n",
       "        text-align: right;\n",
       "    }\n",
       "</style>\n",
       "<table border=\"1\" class=\"dataframe\">\n",
       "  <thead>\n",
       "    <tr style=\"text-align: right;\">\n",
       "      <th></th>\n",
       "      <th>Data_Value</th>\n",
       "    </tr>\n",
       "    <tr>\n",
       "      <th>Data_Type</th>\n",
       "      <th></th>\n",
       "    </tr>\n",
       "  </thead>\n",
       "  <tbody>\n",
       "    <tr>\n",
       "      <th>Equatorial Diameter</th>\n",
       "      <td>6,792 km</td>\n",
       "    </tr>\n",
       "    <tr>\n",
       "      <th>Polar Diameter</th>\n",
       "      <td>6,752 km</td>\n",
       "    </tr>\n",
       "    <tr>\n",
       "      <th>Mass</th>\n",
       "      <td>6.39 × 10^23 kg (0.11 Earths)</td>\n",
       "    </tr>\n",
       "    <tr>\n",
       "      <th>Moons</th>\n",
       "      <td>2 (Phobos &amp; Deimos)</td>\n",
       "    </tr>\n",
       "    <tr>\n",
       "      <th>Orbit Distance</th>\n",
       "      <td>227,943,824 km (1.38 AU)</td>\n",
       "    </tr>\n",
       "  </tbody>\n",
       "</table>\n",
       "</div>"
      ],
      "text/plain": [
       "                                        Data_Value\n",
       "Data_Type                                         \n",
       "Equatorial Diameter                       6,792 km\n",
       "Polar Diameter                            6,752 km\n",
       "Mass                 6.39 × 10^23 kg (0.11 Earths)\n",
       "Moons                          2 (Phobos & Deimos)\n",
       "Orbit Distance            227,943,824 km (1.38 AU)"
      ]
     },
     "execution_count": 139,
     "metadata": {},
     "output_type": "execute_result"
    }
   ],
   "source": [
    "df.set_index('Data_Type', inplace=True)\n",
    "df.head()"
   ]
  },
  {
   "cell_type": "code",
   "execution_count": 140,
   "metadata": {},
   "outputs": [
    {
     "data": {
      "text/plain": [
       "'<table border=\"1\" class=\"dataframe\">\\n  <thead>\\n    <tr style=\"text-align: right;\">\\n      <th></th>\\n      <th>Data_Value</th>\\n    </tr>\\n    <tr>\\n      <th>Data_Type</th>\\n      <th></th>\\n    </tr>\\n  </thead>\\n  <tbody>\\n    <tr>\\n      <th>Equatorial Diameter</th>\\n      <td>6,792 km</td>\\n    </tr>\\n    <tr>\\n      <th>Polar Diameter</th>\\n      <td>6,752 km</td>\\n    </tr>\\n    <tr>\\n      <th>Mass</th>\\n      <td>6.39 × 10^23 kg (0.11 Earths)</td>\\n    </tr>\\n    <tr>\\n      <th>Moons</th>\\n      <td>2 (Phobos &amp; Deimos)</td>\\n    </tr>\\n    <tr>\\n      <th>Orbit Distance</th>\\n      <td>227,943,824 km (1.38 AU)</td>\\n    </tr>\\n    <tr>\\n      <th>Orbit Period</th>\\n      <td>687 days (1.9 years)</td>\\n    </tr>\\n    <tr>\\n      <th>Surface Temperature</th>\\n      <td>-87 to -5 °C</td>\\n    </tr>\\n    <tr>\\n      <th>First Record</th>\\n      <td>2nd millennium BC</td>\\n    </tr>\\n    <tr>\\n      <th>Recorded By</th>\\n      <td>Egyptian astronomers</td>\\n    </tr>\\n  </tbody>\\n</table>'"
      ]
     },
     "execution_count": 140,
     "metadata": {},
     "output_type": "execute_result"
    }
   ],
   "source": [
    "# Convert to html table string\n",
    "html_table = df.to_html()\n",
    "html_table"
   ]
  },
  {
   "cell_type": "code",
   "execution_count": 141,
   "metadata": {},
   "outputs": [
    {
     "data": {
      "text/plain": [
       "'<table border=\"1\" class=\"dataframe\">  <thead>    <tr style=\"text-align: right;\">      <th></th>      <th>Data_Value</th>    </tr>    <tr>      <th>Data_Type</th>      <th></th>    </tr>  </thead>  <tbody>    <tr>      <th>Equatorial Diameter</th>      <td>6,792 km</td>    </tr>    <tr>      <th>Polar Diameter</th>      <td>6,752 km</td>    </tr>    <tr>      <th>Mass</th>      <td>6.39 × 10^23 kg (0.11 Earths)</td>    </tr>    <tr>      <th>Moons</th>      <td>2 (Phobos &amp; Deimos)</td>    </tr>    <tr>      <th>Orbit Distance</th>      <td>227,943,824 km (1.38 AU)</td>    </tr>    <tr>      <th>Orbit Period</th>      <td>687 days (1.9 years)</td>    </tr>    <tr>      <th>Surface Temperature</th>      <td>-87 to -5 °C</td>    </tr>    <tr>      <th>First Record</th>      <td>2nd millennium BC</td>    </tr>    <tr>      <th>Recorded By</th>      <td>Egyptian astronomers</td>    </tr>  </tbody></table>'"
      ]
     },
     "execution_count": 141,
     "metadata": {},
     "output_type": "execute_result"
    }
   ],
   "source": [
    "# Remove new line text\n",
    "html_table.replace('\\n', '')"
   ]
  },
  {
   "cell_type": "code",
   "execution_count": 142,
   "metadata": {},
   "outputs": [],
   "source": [
    "# Save to file\n",
    "df.to_html('table.html')"
   ]
  },
  {
   "cell_type": "code",
   "execution_count": 143,
   "metadata": {},
   "outputs": [],
   "source": [
    "SPACE_TABLE = [{\n",
    "\"SPACE_TABLE\":df\n",
    "}]"
   ]
  },
  {
   "cell_type": "code",
   "execution_count": 144,
   "metadata": {},
   "outputs": [],
   "source": [
    "!open table.html"
   ]
  },
  {
   "cell_type": "code",
   "execution_count": 145,
   "metadata": {},
   "outputs": [],
   "source": [
    "url = 'https://astrogeology.usgs.gov/search/results?q=hemisphere+enhanced&k1=target&v1=Mars'\n",
    "browser.visit(url)"
   ]
  },
  {
   "cell_type": "code",
   "execution_count": 146,
   "metadata": {},
   "outputs": [
    {
     "name": "stderr",
     "output_type": "stream",
     "text": [
      "/Users/josh/opt/anaconda3/lib/python3.8/site-packages/splinter/driver/webdriver/__init__.py:490: FutureWarning: browser.find_link_by_partial_text is deprecated. Use browser.links.find_by_partial_text instead.\n",
      "  warnings.warn(\n"
     ]
    }
   ],
   "source": [
    "\n",
    "time.sleep(5)\n",
    "\n",
    "# Iterate through all pages\n",
    "\n",
    "# HTML object\n",
    "html = browser.html\n",
    "# Parse HTML with Beautiful Soup\n",
    "soup = BeautifulSoup(html, 'html.parser')\n",
    "# Retrieve all elements that contain book information\n",
    "photos = soup.find_all('div', class_='description')\n",
    "\n",
    "hemisphere_image_urls = []\n",
    "\n",
    "# Iterate through each book\n",
    "for photo in photos:\n",
    "    \n",
    "    section = photo.find('a', class_='itemLink product-item')\n",
    "    href_text = section.find('h3').text\n",
    "    \n",
    "    # Assign for dict\n",
    "    title = href_text\n",
    "    \n",
    "    try:\n",
    "        browser.click_link_by_partial_text(href_text)\n",
    "        \n",
    "        # HTML object\n",
    "        html = browser.html\n",
    "        # Parse HTML with Beautiful Soup\n",
    "        soup = BeautifulSoup(html, 'html.parser')\n",
    "        # Retrieve all elements that contain book information\n",
    "        \n",
    "        divs = soup.find('div', class_='downloads')\n",
    "        a_href = divs.find('a')\n",
    "        href = a_href['href']\n",
    "        \n",
    "        # Assign for dict\n",
    "        img_url = href\n",
    "        \n",
    "        # Create a dictionary with elements\n",
    "        dict = ({\n",
    "            'title':title,\n",
    "            'img_url':img_url\n",
    "        })\n",
    "        \n",
    "        # Append to outside list\n",
    "        hemisphere_image_urls.append(dict)\n",
    "        \n",
    "        # Return to previous page\n",
    "        browser.back()\n",
    "    \n",
    "    except:\n",
    "        print('Whoops')"
   ]
  },
  {
   "cell_type": "code",
   "execution_count": 147,
   "metadata": {},
   "outputs": [],
   "source": [
    "MARS_IMGS = [{\n",
    "\"MARS_IMGS\":hemisphere_image_urls\n",
    "}]"
   ]
  },
  {
   "cell_type": "code",
   "execution_count": 148,
   "metadata": {},
   "outputs": [],
   "source": [
    "final_dict = {\n",
    "\"NASA_NEWS\":NASA_NEWS,\n",
    "\"FEAT_IMG\":FEAT_IMG,\n",
    "\"MARS_WEATHER\":MARS_WEATHER,\n",
    "\"SPACE_TABLE\":SPACE_TABLE,\n",
    "\"MARS_IMGS\":MARS_IMGS\n",
    "}\n"
   ]
  },
  {
   "cell_type": "code",
   "execution_count": 149,
   "metadata": {},
   "outputs": [
    {
     "name": "stdout",
     "output_type": "stream",
     "text": [
      "{'FEAT_IMG': [{'FEAT_IMG': 'https://www.jpl.nasa.gov//spaceimages/images/mediumsize/PIA11777_ip.jpg'}],\n",
      " 'MARS_IMGS': [{'MARS_IMGS': [{'img_url': 'https://astropedia.astrogeology.usgs.gov/download/Mars/Viking/cerberus_enhanced.tif/full.jpg',\n",
      "                               'title': 'Cerberus Hemisphere Enhanced'},\n",
      "                              {'img_url': 'https://astropedia.astrogeology.usgs.gov/download/Mars/Viking/schiaparelli_enhanced.tif/full.jpg',\n",
      "                               'title': 'Schiaparelli Hemisphere Enhanced'},\n",
      "                              {'img_url': 'https://astropedia.astrogeology.usgs.gov/download/Mars/Viking/syrtis_major_enhanced.tif/full.jpg',\n",
      "                               'title': 'Syrtis Major Hemisphere Enhanced'},\n",
      "                              {'img_url': 'https://astropedia.astrogeology.usgs.gov/download/Mars/Viking/valles_marineris_enhanced.tif/full.jpg',\n",
      "                               'title': 'Valles Marineris Hemisphere '\n",
      "                                        'Enhanced'}]}],\n",
      " 'MARS_WEATHER': [{'MARS_WEATHER': 'NASA InSight'}],\n",
      " 'NASA_NEWS': [{'news_p': 'Winners include the JPL-managed \"Send Your Name to '\n",
      "                          'Mars\" campaign, NASA\\'s Global Climate Change '\n",
      "                          'website and Solar System Interactive.',\n",
      "                'news_title': \"NASA Wins 4 Webbys, 4 People's Voice Awards\"}],\n",
      " 'SPACE_TABLE': [{'SPACE_TABLE':                                         Data_Value\n",
      "Data_Type                                         \n",
      "Equatorial Diameter                       6,792 km\n",
      "Polar Diameter                            6,752 km\n",
      "Mass                 6.39 × 10^23 kg (0.11 Earths)\n",
      "Moons                          2 (Phobos & Deimos)\n",
      "Orbit Distance            227,943,824 km (1.38 AU)\n",
      "Orbit Period                  687 days (1.9 years)\n",
      "Surface Temperature                   -87 to -5 °C\n",
      "First Record                     2nd millennium BC\n",
      "Recorded By                   Egyptian astronomers}]}\n"
     ]
    }
   ],
   "source": [
    "pprint.pprint(final_dict)"
   ]
  },
  {
   "cell_type": "code",
   "execution_count": 150,
   "metadata": {},
   "outputs": [],
   "source": [
    "browser.quit()"
   ]
  },
  {
   "cell_type": "code",
   "execution_count": null,
   "metadata": {},
   "outputs": [],
   "source": []
  }
 ],
 "metadata": {
  "kernelspec": {
   "display_name": "Python 3",
   "language": "python",
   "name": "python3"
  },
  "language_info": {
   "codemirror_mode": {
    "name": "ipython",
    "version": 3
   },
   "file_extension": ".py",
   "mimetype": "text/x-python",
   "name": "python",
   "nbconvert_exporter": "python",
   "pygments_lexer": "ipython3",
   "version": "3.8.3"
  }
 },
 "nbformat": 4,
 "nbformat_minor": 4
}
